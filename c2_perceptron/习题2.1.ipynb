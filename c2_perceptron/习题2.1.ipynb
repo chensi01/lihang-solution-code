{
 "cells": [
  {
   "cell_type": "markdown",
   "metadata": {},
   "source": [
    "### 习题2.1\n",
    "感知机模型是线性分类模型，对应于特征空间中将实例划分为正负两例的分离超平面。由下面的XOR的示意图可得，不存在一条直线将正类和负类分隔开，即XOR问题是线性不可分的。因此感知机不能表示异或。"
   ]
  },
  {
   "cell_type": "code",
   "execution_count": 45,
   "metadata": {},
   "outputs": [
    {
     "name": "stdout",
     "output_type": "stream",
     "text": [
      "   x1  x2  y\n",
      "0  -1  -1 -1\n",
      "1  -1   1  1\n",
      "2   1  -1  1\n",
      "3   1   1 -1\n"
     ]
    }
   ],
   "source": [
    "#根据输入空间X和XOR规则生成实例\n",
    "import pandas as pd\n",
    "X,data=[-1,1],[]\n",
    "for x1 in X:\n",
    "    for x2 in X:\n",
    "        y = -1 if (x1==x2) else 1\n",
    "        data.append([x1,x2,y])\n",
    "data = pd.DataFrame(data,index=None,columns=['x1','x2','y'])\n",
    "print(data)"
   ]
  },
  {
   "cell_type": "code",
   "execution_count": 49,
   "metadata": {},
   "outputs": [
    {
     "data": {
      "image/png": "[encoded data removed]",
      "text/plain": [
       "<Figure size 432x288 with 1 Axes>"
      ]
     },
     "metadata": {
      "needs_background": "light"
     },
     "output_type": "display_data"
    }
   ],
   "source": [
    "#根据XOR的数据实例绘制示意图\n",
    "import matplotlib\n",
    "from matplotlib import pyplot as plt \n",
    "plt.xlim(-2,2)\n",
    "plt.ylim(-2,2)\n",
    "plt.xticks(range(-2,3))\n",
    "plt.yticks(range(-2,3))\n",
    "plt.xlabel('x1')\n",
    "plt.ylabel('x2')\n",
    "plt.plot(data[data['y']==1]['x1'],data[data['y']==1]['x2'],'ro')\n",
    "plt.plot(data[data['y']==-1]['x1'],data[data['y']==-1]['x2'],'gx')\n",
    "plt.show()"
   ]
  }
 ],
 "metadata": {
  "kernelspec": {
   "display_name": "Python 3",
   "language": "python",
   "name": "python3"
  },
  "language_info": {
   "codemirror_mode": {
    "name": "ipython",
    "version": 3
   },
   "file_extension": ".py",
   "mimetype": "text/x-python",
   "name": "python",
   "nbconvert_exporter": "python",
   "pygments_lexer": "ipython3",
   "version": "3.8.5"
  }
 },
 "nbformat": 4,
 "nbformat_minor": 4
}
